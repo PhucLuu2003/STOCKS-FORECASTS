{
 "cells": [
  {
   "cell_type": "markdown",
   "metadata": {},
   "source": [
    "\n",
    "# PROPOSAL - STOCK ANALYSIS"
   ]
  },
  {
   "cell_type": "markdown",
   "metadata": {},
   "source": [
    "- Thông tin nhóm : \n",
    "\n",
    "\n",
    "    | Họ và tên | MSSV |\n",
    "    |-------|-------|\n",
    "    |Lưu Hoàng Phúc|21110602|\n",
    "    |Nguyễn Đức Anh|21110864|\n",
    "    |Đặng Tuấn Duẫn|20110757|\n",
    "    |Hồ Lê Tuấn Lợi|22110370|"
   ]
  },
  {
   "cell_type": "markdown",
   "metadata": {},
   "source": [
    "## I. Giới thiệu đề tài\n",
    "Dự đoán cổ phiếu là một lĩnh vực nghiên cứu trong lĩnh vực tài chính và đầu tư, nơi các nhà tư vấn và nhà phân tích cố gắng nỗ lực dự đoán giá phiếu trong tương lai dựa trên thông tin và dữ liệu có sẵn. Đề tài này rất quan trọng trong việc hỗ trợ quyết định đầu tư của người chơi trên thị trường tài chính.\n"
   ]
  },
  {
   "cell_type": "markdown",
   "metadata": {},
   "source": [
    "## II. Lý do chọn đề tài\n",
    "\n",
    "- Thị trường cổ phiếu có thể ảnh hướng đáng kể đối với tình hình kinh tế của một quốc gia hoặc khu vực.\n",
    "\n",
    "- Quản lý rủi ro cho các doanh nghiệp và nhà đầu tư cần dự đoán biến động giá cổ phiếu .\n",
    "\n",
    "- Thông tin từ việc dự đoán cổ phiếu có thể hỗ trợ chính phủ và các tổ chức quản lý kinh tế trong việc đưa ra chính xác kinh tế và tài chính"
   ]
  },
  {
   "cell_type": "markdown",
   "metadata": {},
   "source": [
    "## III. Bài toán muốn giải quyết , ý nghĩa\n",
    "\n",
    "- Bài toán muốn giải quyết : Dự đoán giá cổ phiếu của các công ty dựa trên dữ liệu dữ liệu có sẵn.\n",
    "\n",
    "- Ý nghĩa : Tạo ra một phương án thử nghiệm đưa trí tuệ nhân tạo vào bài toán kinh tế, cụ thể là vào dự đoán giá cả của thị trường cố phiếu. "
   ]
  },
  {
   "cell_type": "markdown",
   "metadata": {},
   "source": [
    "## IV. Phân tích dữ liệu\n",
    "### 1. Dữ liệu trong Dataset\n",
    "Link dataset : https://www.kaggle.com/datasets/thangtranquang/stock-vn30-vietnam\n",
    "\n",
    "Bảng dữ liệu gồm những cột sau :\n",
    "\n",
    "| Tên | Mô tả |\n",
    "|-------|-------|\n",
    "|   Symbol   |  Mã chứng khoán hoặc mã công ty liên quan đến dữ liệu. Mỗi mã chứng khoán có một ký hiệu riêng để phân biệt và nhận dạng|\n",
    "|   Value|   Giá trị của chỉ số VN-Index tại thời điểm cụ thể   |\n",
    "|  TradingDate|   Ngày giao dịch tương ứng với các dữ liệu trong hàng tương ứng   | \n",
    "|   Open|   Giá mở cửa của VN-Index trong ngày giao dịch tương ứng   |\n",
    "|  High  |   Mức giá cao nhất mà VN-Index đạt được trong ngày giao dịch   |\n",
    "|  Low  |   Mức giá thấp nhất mà VN-Index đạt được trong ngày giao dịch   |\n",
    "|   Close|   Giá đóng cửa của VN-Index trong ngày giao dịch tương ứng   |\n",
    "|   Volume   |   Khối lượng giao dịch, tức là số lượng cổ phiếu được giao dịch trong ngày tương ứng|\n",
    "\n",
    "\n"
   ]
  },
  {
   "cell_type": "markdown",
   "metadata": {},
   "source": [
    "### 2. X , Y variable\n",
    "\n",
    "- Biến Y : Tập hợp kết quả dự đoán : Close (giá đóng của của cổ phiếu)\n",
    "\n",
    "- Biến X : Tập hợp các dữ liệu hỗ trợ phân tích , dự doán gồm : Symbol,Value,TradingDate,Open,High,Low,Volume"
   ]
  },
  {
   "cell_type": "markdown",
   "metadata": {},
   "source": [
    "### 3. Phương pháp sử dụng\n",
    "\n",
    "#### Các phương pháp sẽ sử dụng\n",
    "\n",
    "- Linear Regession\n",
    "\n",
    "    Mô hình Linear Regession giúp tìm ra mối quan hệ tuyến tính giữa các biến đầu vào và giá cổ phiếu . Chọn các biến đầu vào có thể ảnh hưởng đến giá cổ phiếu , như giá đóng cửa , chỉ số giá trị , khối lượng giao dịch từ dữ liệu .\n",
    "\n",
    "    Đánh giá và tinh chỉnh mô hình bằng các chỉ số như MSE,RMSE để đo lường độ chính xác của dự đoán . \n",
    "\n",
    "    Thực tế mô hình Linear Regession chỉ giả định mối quan hệ giữa các biến đầu vào là tuyến tính nên chỉ là một phương pháp đơn giản để phân tích .\n",
    "\n",
    "- Random Forest\n",
    "\n",
    "    So với mô hình Linear Regession ở trên thì Random Forest có khả năng xử lý dữ liệu với nghìn dữ liệu đầu vào và mang lại độ chính xác cao . Hơn nữa nó có thể tự cân bằng các tập dữ liệu khi một class không xuất hiện thường xuyên hơn các class khác .\n",
    "\n",
    "    Dữ liệu dự doán gồm : Open, High, Low, Volume\n",
    "\n",
    "    Kết quả dự đoán : Close\n",
    "\n",
    "- Neural Network\n",
    "\n",
    "    Ở đây chúng ta sử dụng RNN (Recurrent Neural Networks) để dự đoán cổ phiếu trong tương lai .\n",
    "\n",
    "    Đối với RNN việc chọn độ dài của chuỗi  (số ngày hoặc số điểm trước đó) là rất quan trọng .\n",
    "\n",
    "    \n",
    "\n"
   ]
  },
  {
   "cell_type": "markdown",
   "metadata": {},
   "source": [
    "## V. Bảng kế hoạch và phân công\n",
    "\n",
    "| Nhiệm vụ  | Phân công | Ngày |\n",
    "|-------|-------|-------|\n",
    "|   Chọn đề tài   |  Tất cả thành viên | 15/10/2023 |\n",
    "|   Xác định hướng đi cho đề tài |   Tất cả thành viên   | 16/10/2023 |\n",
    "|  Thu thập dữ liệu |   Tất cả thành viên   | 17-18/10/2023 |\n",
    "|   Đề xuất |   Tất cả thành viên   | 19-22/10/2023 |\n",
    "|  Tìm hiểu các mô hình  |   Tất cả thành viên   | 23/10-1/11/2023 |\n",
    "|  Triển khai mô hình  |  Tất cả thành viên   | 2-18/11/2023 |\n",
    "|   Tiến độ |   Tất cả thành viên   | 19/11/2023 |\n",
    "|   Áp dụng dữ liệu vào kiểm tra đánh giá   |   Tất cả thành viên | 20-30/11/2023 |\n",
    "|   Tổng kết đánh giá   |   Tất cả thành viên| 1-9/12/2023 |\n",
    "|   Thuyết trình   |   Tất cả thành viên| 10/12/2023 |\n",
    "|   Tổng hợp nội dung   |   Tất cả thành viên| 11-16/12/2023 |\n",
    "|   Báo cáo |   Tất cả thành viên| 17/12/2023 |\n"
   ]
  }
 ],
 "metadata": {
  "kernelspec": {
   "display_name": "Python 3 (ipykernel)",
   "language": "python",
   "name": "python3"
  },
  "language_info": {
   "codemirror_mode": {
    "name": "ipython",
    "version": 3
   },
   "file_extension": ".py",
   "mimetype": "text/x-python",
   "name": "python",
   "nbconvert_exporter": "python",
   "pygments_lexer": "ipython3",
   "version": "3.9.13"
  }
 },
 "nbformat": 4,
 "nbformat_minor": 4
}
